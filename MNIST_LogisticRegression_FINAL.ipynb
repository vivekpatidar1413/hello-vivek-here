{
  "nbformat": 4,
  "nbformat_minor": 0,
  "metadata": {
    "colab": {
      "name": "MNIST_LogisticRegression_FINAL.ipynb",
      "provenance": [],
      "collapsed_sections": [],
      "toc_visible": true,
      "authorship_tag": "ABX9TyOnPHyJdtjB1OAviYcOeHqC",
      "include_colab_link": true
    },
    "kernelspec": {
      "display_name": "Python 3",
      "name": "python3"
    },
    "language_info": {
      "name": "python"
    }
  },
  "cells": [
    {
      "cell_type": "markdown",
      "metadata": {
        "id": "view-in-github",
        "colab_type": "text"
      },
      "source": [
        "<a href=\"https://colab.research.google.com/github/vivekpatidar1413/ML_bootcamp_vivek/blob/logistic-regression/MNIST_LogisticRegression_FINAL.ipynb\" target=\"_parent\"><img src=\"https://colab.research.google.com/assets/colab-badge.svg\" alt=\"Open In Colab\"/></a>"
      ]
    },
    {
      "cell_type": "markdown",
      "metadata": {
        "id": "osM8JPRAlth8"
      },
      "source": [
        "# Importing The MNIST dataset\n"
      ]
    },
    {
      "cell_type": "code",
      "metadata": {
        "id": "qaP_jRa_lFb6"
      },
      "source": [
        "import numpy as np\n",
        "import pandas as pd\n",
        "from matplotlib import pyplot as plt"
      ],
      "execution_count": 252,
      "outputs": []
    },
    {
      "cell_type": "code",
      "metadata": {
        "id": "RTvWtumslXXF"
      },
      "source": [
        "train_df = pd.read_csv(\"/content/sample_data/mnist_train_small.csv\")\n",
        "test_df  = pd.read_csv(\"/content/sample_data/mnist_test.csv\")"
      ],
      "execution_count": 299,
      "outputs": []
    },
    {
      "cell_type": "markdown",
      "metadata": {
        "id": "GX-d4zh3JFJL"
      },
      "source": [
        "converting the data frame into numpy array"
      ]
    },
    {
      "cell_type": "code",
      "metadata": {
        "id": "leL1lkgrlbMg"
      },
      "source": [
        "train = train_df.to_numpy()\n",
        "test  = test_df.to_numpy()"
      ],
      "execution_count": 300,
      "outputs": []
    },
    {
      "cell_type": "code",
      "metadata": {
        "colab": {
          "base_uri": "https://localhost:8080/"
        },
        "id": "ZVCA5mGRlfxH",
        "outputId": "3d57557c-c975-4534-c324-5b0b2f261cb2"
      },
      "source": [
        "print(train.shape)\n",
        "print(train)"
      ],
      "execution_count": 301,
      "outputs": [
        {
          "output_type": "stream",
          "text": [
            "(19999, 785)\n",
            "[[5 0 0 ... 0 0 0]\n",
            " [7 0 0 ... 0 0 0]\n",
            " [9 0 0 ... 0 0 0]\n",
            " ...\n",
            " [2 0 0 ... 0 0 0]\n",
            " [9 0 0 ... 0 0 0]\n",
            " [5 0 0 ... 0 0 0]]\n"
          ],
          "name": "stdout"
        }
      ]
    },
    {
      "cell_type": "markdown",
      "metadata": {
        "id": "zH4eRqDhrg_7"
      },
      "source": [
        "# Reshaping the dataset into desired shape and Size"
      ]
    },
    {
      "cell_type": "code",
      "metadata": {
        "id": "VYypfC6jmPjU"
      },
      "source": [
        "x_train = train[:,1:]\n",
        "y_train = train[:,:1]"
      ],
      "execution_count": 302,
      "outputs": []
    },
    {
      "cell_type": "code",
      "metadata": {
        "colab": {
          "base_uri": "https://localhost:8080/"
        },
        "id": "Qfr-vX0A9gQh",
        "outputId": "e239e66a-c240-493c-f336-9391a3bc2790"
      },
      "source": [
        "y_train"
      ],
      "execution_count": 303,
      "outputs": [
        {
          "output_type": "execute_result",
          "data": {
            "text/plain": [
              "array([[5],\n",
              "       [7],\n",
              "       [9],\n",
              "       ...,\n",
              "       [2],\n",
              "       [9],\n",
              "       [5]])"
            ]
          },
          "metadata": {
            "tags": []
          },
          "execution_count": 303
        }
      ]
    },
    {
      "cell_type": "code",
      "metadata": {
        "id": "m3R9C7NzKQrN"
      },
      "source": [
        "# Adding one more coloumn to x_train so we can take dot product of it with THEETA\n",
        "\n",
        "x_n_train = np.arange(19999*785)\n",
        "x_n_train = np.reshape(x_n_train,(19999,785))\n",
        "\n",
        "for i in range(19999):\n",
        "  x_n_train[i] = np.insert(x_train[i],0,1)\n",
        "x_n_train = x_n_train/255"
      ],
      "execution_count": 258,
      "outputs": []
    },
    {
      "cell_type": "code",
      "metadata": {
        "colab": {
          "base_uri": "https://localhost:8080/"
        },
        "id": "rGjSX1j6mYxK",
        "outputId": "17955923-f4c8-4a22-d76d-545d1e2777e5"
      },
      "source": [
        "print(y_train.shape)\n",
        "print(x_n_train.shape)"
      ],
      "execution_count": 259,
      "outputs": [
        {
          "output_type": "stream",
          "text": [
            "(19999, 1)\n",
            "(19999, 785)\n"
          ],
          "name": "stdout"
        }
      ]
    },
    {
      "cell_type": "markdown",
      "metadata": {
        "id": "QO2-tBp5KaP_"
      },
      "source": [
        "# THE MAIN FUNCTION"
      ]
    },
    {
      "cell_type": "markdown",
      "metadata": {
        "id": "F5FudWz46l-Q"
      },
      "source": [
        "Defining a function which we call for diffrent digit classification\n",
        "\n",
        "*   input = taking the digit for which the classification is to be performed\n",
        "*   output = the values of theeta and cost function after every iteration\n",
        "\n"
      ]
    },
    {
      "cell_type": "code",
      "metadata": {
        "id": "yCcBbllQm1Zb"
      },
      "source": [
        "def THE_MAIN_FUNCTION(n,X,Y):\n",
        "\n",
        "  # Let the iterations be 50000\n",
        "  itrations = 50000\n",
        "  # let the learning rate be 0.16\n",
        "  alpha = 0.16\n",
        "  # the number of training set be m which is 19999 here\n",
        "  m = 19999\n",
        "\n",
        "  '''Converting the Y_TRAIN in BINARY FORM'''\n",
        "  '''Y be 1 if the number is same as the digit to be trained(n)'''\n",
        "  '''Y be 0 if the number is not equal as the digit to be trained(n)'''\n",
        "  for i in range(19999):\n",
        "    if Y[i]==n:\n",
        "      Y[i]=1\n",
        "    else:\n",
        "      Y[i]=0\n",
        "\n",
        "  Y = Y.T\n",
        "  X = X.T\n",
        "  \n",
        "  # Intialising the array of theeta to be any random value \n",
        "  Theeta = np.random.randn(1,785)\n",
        "\n",
        "  Cost_Function = []\n",
        "  k = 0\n",
        "\n",
        "  print('TRAINING THE MODEL FOR DIGIT',n)\n",
        "\n",
        "\n",
        "  # The main itration loops bigins from here\n",
        "\n",
        "  for i in range(1,itrations+1):\n",
        "    \n",
        "    g = np.dot(Theeta,X)\n",
        "    hypothesis = 1/(1 + np.exp(-g))\n",
        "\n",
        "    # COST FUNCTION\n",
        "    j = 1/m*(-1*(np.sum(y*np.log(hypothesis) + (1-y)*np.log(1-hypothesis))))\n",
        "    Cost_Function.append(j)\n",
        "    \n",
        "    # GRADIENT DESCENT\n",
        "    dw =  1/m * np.dot(hypothesis-y,X.T)\n",
        "    Theeta = Theeta - alpha*dw\n",
        "    \n",
        "    k+=1\n",
        "\n",
        "    if i%2500 == 0:\n",
        "      print(i,'th Iteration , Cost Function =',j)\n",
        "\n",
        "\n",
        "    # BREAKING THE LOOP\n",
        "    '''stoping the loop if the change in value of cost function is too low'''\n",
        "    if i%2 == 0:\n",
        "      if abs(j-Cost_Function[-2])<0.000001:\n",
        "        if abs(j-Cost_Function[-3])<0.000001:\n",
        "          break \n",
        "\n",
        "      \n",
        "  print('Last itteration number:',k)\n",
        "\n",
        "  return Theeta,Cost_Function"
      ],
      "execution_count": 260,
      "outputs": []
    },
    {
      "cell_type": "code",
      "metadata": {
        "colab": {
          "base_uri": "https://localhost:8080/"
        },
        "id": "JeuONSUW9bs5",
        "outputId": "b41f7c1a-315c-45c9-e142-6673fab48b85"
      },
      "source": [
        "y_train"
      ],
      "execution_count": 261,
      "outputs": [
        {
          "output_type": "execute_result",
          "data": {
            "text/plain": [
              "array([[5],\n",
              "       [7],\n",
              "       [9],\n",
              "       ...,\n",
              "       [2],\n",
              "       [9],\n",
              "       [5]])"
            ]
          },
          "metadata": {
            "tags": []
          },
          "execution_count": 261
        }
      ]
    },
    {
      "cell_type": "code",
      "metadata": {
        "colab": {
          "base_uri": "https://localhost:8080/"
        },
        "id": "D4aRqZiv7XdB",
        "outputId": "897477e9-7bee-41c8-8659-178ac6f4916f"
      },
      "source": [
        "Theeta0 , Cost_Function0 = THE_MAIN_FUNCTION (0,x_n_train,y_train)\n",
        "Theeta1 , Cost_Function1 = THE_MAIN_FUNCTION (1,x_n_train,y_train)"
      ],
      "execution_count": null,
      "outputs": [
        {
          "output_type": "stream",
          "text": [
            "TRAINING THE MODEL FOR DIGIT 0\n"
          ],
          "name": "stdout"
        }
      ]
    },
    {
      "cell_type": "code",
      "metadata": {
        "colab": {
          "base_uri": "https://localhost:8080/"
        },
        "id": "PCFnxnxk7XLX",
        "outputId": "5506526d-af04-4bcc-9a46-0ba5330a907d"
      },
      "source": [
        "Theeta2 , Cost_Function2 = THE_MAIN_FUNCTION (2,x_n_train,y_train)\n",
        "Theeta3 , Cost_Function3 = THE_MAIN_FUNCTION (3,x_n_train,y_train)"
      ],
      "execution_count": 283,
      "outputs": [
        {
          "output_type": "stream",
          "text": [
            "TRAINING THE MODEL FOR DIGIT 2\n",
            "2500 th Iteration , Cost Function = 0.1607660698588981\n",
            "5000 th Iteration , Cost Function = 0.1393396118952187\n",
            "7500 th Iteration , Cost Function = 0.12871299110338633\n",
            "10000 th Iteration , Cost Function = 0.12244428053826896\n",
            "12500 th Iteration , Cost Function = 0.11833725787237213\n",
            "15000 th Iteration , Cost Function = 0.11542773917973478\n",
            "17500 th Iteration , Cost Function = 0.11324671674754491\n",
            "20000 th Iteration , Cost Function = 0.11154340654638314\n",
            "Last itteration number: 22384\n",
            "TRAINING THE MODEL FOR DIGIT 3\n",
            "2500 th Iteration , Cost Function = 0.15306421187442873\n",
            "5000 th Iteration , Cost Function = 0.13550435155682145\n",
            "7500 th Iteration , Cost Function = 0.12677966547437963\n",
            "10000 th Iteration , Cost Function = 0.1212933004236208\n",
            "12500 th Iteration , Cost Function = 0.11748858517797098\n",
            "15000 th Iteration , Cost Function = 0.11469517403265396\n",
            "17500 th Iteration , Cost Function = 0.11256109843915171\n",
            "20000 th Iteration , Cost Function = 0.11088041310116029\n",
            "Last itteration number: 22242\n"
          ],
          "name": "stdout"
        }
      ]
    },
    {
      "cell_type": "code",
      "metadata": {
        "colab": {
          "base_uri": "https://localhost:8080/"
        },
        "id": "_XLJ8odN7XC3",
        "outputId": "c68ce35c-c85f-4902-ed7e-880c43c2739d"
      },
      "source": [
        "Theeta4 , Cost_Function4 = THE_MAIN_FUNCTION (4,x_n_train,y_train)\n",
        "Theeta5 , Cost_Function5 = THE_MAIN_FUNCTION (5,x_n_train,y_train)"
      ],
      "execution_count": 290,
      "outputs": [
        {
          "output_type": "stream",
          "text": [
            "TRAINING THE MODEL FOR DIGIT 4\n",
            "2500 th Iteration , Cost Function = 0.16298380705984145\n",
            "5000 th Iteration , Cost Function = 0.139839825842285\n",
            "7500 th Iteration , Cost Function = 0.12866520104211718\n",
            "10000 th Iteration , Cost Function = 0.12202435409355492\n",
            "12500 th Iteration , Cost Function = 0.11768963294988785\n",
            "15000 th Iteration , Cost Function = 0.11466676002957774\n",
            "17500 th Iteration , Cost Function = 0.11244411766850919\n",
            "20000 th Iteration , Cost Function = 0.11073848257672324\n",
            "Last itteration number: 22160\n",
            "TRAINING THE MODEL FOR DIGIT 5\n",
            "2500 th Iteration , Cost Function = 0.15844287804808602\n",
            "5000 th Iteration , Cost Function = 0.13802816076532912\n",
            "7500 th Iteration , Cost Function = 0.12873632489043024\n",
            "10000 th Iteration , Cost Function = 0.12298950857291657\n",
            "12500 th Iteration , Cost Function = 0.11899804108579794\n",
            "15000 th Iteration , Cost Function = 0.11605109991836136\n",
            "17500 th Iteration , Cost Function = 0.11378308256431212\n",
            "20000 th Iteration , Cost Function = 0.11198233941170184\n",
            "22500 th Iteration , Cost Function = 0.11051751244755166\n",
            "Last itteration number: 23328\n"
          ],
          "name": "stdout"
        }
      ]
    },
    {
      "cell_type": "code",
      "metadata": {
        "colab": {
          "base_uri": "https://localhost:8080/"
        },
        "id": "UthB_T3L7W8o",
        "outputId": "4a332cbb-bd93-4606-94ee-b0e3bf16852b"
      },
      "source": [
        "Theeta6 , Cost_Function6 = THE_MAIN_FUNCTION (6,x_n_train,y_train)\n",
        "Theeta7 , Cost_Function7 = THE_MAIN_FUNCTION (7,x_n_train,y_train)"
      ],
      "execution_count": 291,
      "outputs": [
        {
          "output_type": "stream",
          "text": [
            "TRAINING THE MODEL FOR DIGIT 6\n",
            "2500 th Iteration , Cost Function = 0.1714616185234725\n",
            "5000 th Iteration , Cost Function = 0.1437025475889099\n",
            "7500 th Iteration , Cost Function = 0.1308038895898387\n",
            "10000 th Iteration , Cost Function = 0.12340007695639414\n",
            "12500 th Iteration , Cost Function = 0.11867385536845006\n",
            "15000 th Iteration , Cost Function = 0.11542695702086883\n",
            "17500 th Iteration , Cost Function = 0.11306198916969501\n",
            "20000 th Iteration , Cost Function = 0.11125754701459145\n",
            "22500 th Iteration , Cost Function = 0.10983023644556258\n",
            "Last itteration number: 22790\n",
            "TRAINING THE MODEL FOR DIGIT 7\n",
            "2500 th Iteration , Cost Function = 0.15952220493336014\n",
            "5000 th Iteration , Cost Function = 0.13812956227564244\n",
            "7500 th Iteration , Cost Function = 0.12811159893187082\n",
            "10000 th Iteration , Cost Function = 0.12211694987942844\n",
            "12500 th Iteration , Cost Function = 0.11810763972752984\n",
            "15000 th Iteration , Cost Function = 0.11522924292505\n",
            "17500 th Iteration , Cost Function = 0.11305896067961005\n",
            "20000 th Iteration , Cost Function = 0.11136281392826651\n",
            "Last itteration number: 22286\n"
          ],
          "name": "stdout"
        }
      ]
    },
    {
      "cell_type": "code",
      "metadata": {
        "colab": {
          "base_uri": "https://localhost:8080/"
        },
        "id": "KCb4VacsOM6R",
        "outputId": "786c1acc-b4a5-469d-e24d-4e24e82c55ce"
      },
      "source": [
        "Theeta8 , Cost_Function8 = THE_MAIN_FUNCTION (8,x_n_train,y_train)\n",
        "Theeta9 , Cost_Function9 = THE_MAIN_FUNCTION (9,x_n_train,y_train)"
      ],
      "execution_count": 292,
      "outputs": [
        {
          "output_type": "stream",
          "text": [
            "TRAINING THE MODEL FOR DIGIT 8\n",
            "2500 th Iteration , Cost Function = 0.15635284907757438\n",
            "5000 th Iteration , Cost Function = 0.13594577244707792\n",
            "7500 th Iteration , Cost Function = 0.12602551896660513\n",
            "10000 th Iteration , Cost Function = 0.1201016553845599\n",
            "12500 th Iteration , Cost Function = 0.11622000971339194\n",
            "15000 th Iteration , Cost Function = 0.11350382605079457\n",
            "17500 th Iteration , Cost Function = 0.11150396136946798\n",
            "20000 th Iteration , Cost Function = 0.1099711553661623\n",
            "Last itteration number: 20880\n",
            "TRAINING THE MODEL FOR DIGIT 9\n",
            "2500 th Iteration , Cost Function = 0.15352926625817928\n",
            "5000 th Iteration , Cost Function = 0.13402590922197494\n",
            "7500 th Iteration , Cost Function = 0.12542204786260167\n",
            "10000 th Iteration , Cost Function = 0.12030469795649451\n",
            "12500 th Iteration , Cost Function = 0.11680222114344448\n",
            "15000 th Iteration , Cost Function = 0.11422815570729013\n",
            "17500 th Iteration , Cost Function = 0.11225286137768155\n",
            "20000 th Iteration , Cost Function = 0.11069029467647659\n",
            "Last itteration number: 21376\n"
          ],
          "name": "stdout"
        }
      ]
    },
    {
      "cell_type": "markdown",
      "metadata": {
        "id": "ZcTVHYnrHmyw"
      },
      "source": [
        "# Graph Ploting for Cost Function"
      ]
    },
    {
      "cell_type": "markdown",
      "metadata": {
        "id": "JbOYoSAtLLex"
      },
      "source": [
        "Graph Showing the decresing nature of cost function \n",
        "\n",
        "*   number of iterations on x-axis\n",
        "*   cost function value on y-axis\n",
        "\n",
        "\n",
        "\n"
      ]
    },
    {
      "cell_type": "code",
      "metadata": {
        "colab": {
          "base_uri": "https://localhost:8080/",
          "height": 1000
        },
        "id": "Edo3gOe8ERVs",
        "outputId": "f6342f89-090a-4154-a5e3-ec43c951e768"
      },
      "source": [
        "plt.plot(Cost_Function0)\n",
        "plt.title(\"0's dataset\")\n",
        "plt.show()\n",
        "plt.plot(Cost_Function1)\n",
        "plt.title(\"1's dataset\")\n",
        "plt.show()\n",
        "plt.plot(Cost_Function2)\n",
        "plt.title(\"2's dataset\")\n",
        "plt.show()\n",
        "plt.plot(Cost_Function3)\n",
        "plt.title(\"3's dataset\")\n",
        "plt.show()\n",
        "plt.plot(Cost_Function4)\n",
        "plt.title(\"4's dataset\")\n",
        "plt.show()\n",
        "plt.plot(Cost_Function5)\n",
        "plt.title(\"5's dataset\")\n",
        "plt.show()\n",
        "plt.plot(Cost_Function6)\n",
        "plt.title(\"6's dataset\")\n",
        "plt.show()\n",
        "plt.plot(Cost_Function7)\n",
        "plt.title(\"7's dataset\")\n",
        "plt.show()\n",
        "plt.plot(Cost_Function8)\n",
        "plt.title(\"8's dataset\")\n",
        "plt.show()\n",
        "plt.plot(Cost_Function9)\n",
        "plt.title(\"9's dataset\")\n",
        "plt.show()"
      ],
      "execution_count": 293,
      "outputs": [
        {
          "output_type": "display_data",
          "data": {
            "image/png": "[encoded data removed]",
            "text/plain": [
              "<Figure size 432x288 with 1 Axes>"
            ]
          },
          "metadata": {
            "tags": [],
            "needs_background": "light"
          }
        },
        {
          "output_type": "display_data",
          "data": {
            "image/png": "[encoded data removed]",
            "text/plain": [
              "<Figure size 432x288 with 1 Axes>"
            ]
          },
          "metadata": {
            "tags": [],
            "needs_background": "light"
          }
        },
        {
          "output_type": "display_data",
          "data": {
            "image/png": "[encoded data removed]",
            "text/plain": [
              "<Figure size 432x288 with 1 Axes>"
            ]
          },
          "metadata": {
            "tags": [],
            "needs_background": "light"
          }
        },
        {
          "output_type": "display_data",
          "data": {
            "image/png": "[encoded data removed]",
            "text/plain": [
              "<Figure size 432x288 with 1 Axes>"
            ]
          },
          "metadata": {
            "tags": [],
            "needs_background": "light"
          }
        },
        {
          "output_type": "display_data",
          "data": {
            "image/png": "[encoded data removed]",
            "text/plain": [
              "<Figure size 432x288 with 1 Axes>"
            ]
          },
          "metadata": {
            "tags": [],
            "needs_background": "light"
          }
        },
        {
          "output_type": "display_data",
          "data": {
            "image/png": "[encoded data removed]",
            "text/plain": [
              "<Figure size 432x288 with 1 Axes>"
            ]
          },
          "metadata": {
            "tags": [],
            "needs_background": "light"
          }
        },
        {
          "output_type": "display_data",
          "data": {
            "image/png": "[encoded data removed]",
            "text/plain": [
              "<Figure size 432x288 with 1 Axes>"
            ]
          },
          "metadata": {
            "tags": [],
            "needs_background": "light"
          }
        },
        {
          "output_type": "display_data",
          "data": {
            "image/png": "[encoded data removed]",
            "text/plain": [
              "<Figure size 432x288 with 1 Axes>"
            ]
          },
          "metadata": {
            "tags": [],
            "needs_background": "light"
          }
        },
        {
          "output_type": "display_data",
          "data": {
            "image/png": "[encoded data removed]",
            "text/plain": [
              "<Figure size 432x288 with 1 Axes>"
            ]
          },
          "metadata": {
            "tags": [],
            "needs_background": "light"
          }
        },
        {
          "output_type": "display_data",
          "data": {
            "image/png": "[encoded data removed]",
            "text/plain": [
              "<Figure size 432x288 with 1 Axes>"
            ]
          },
          "metadata": {
            "tags": [],
            "needs_background": "light"
          }
        }
      ]
    },
    {
      "cell_type": "markdown",
      "metadata": {
        "id": "zzgjNw0VHsxm"
      },
      "source": [
        "# Accuracy Finding"
      ]
    },
    {
      "cell_type": "markdown",
      "metadata": {
        "id": "ecNjPxdyHzeW"
      },
      "source": [
        "Running test in each row (each traing examples)\n"
      ]
    },
    {
      "cell_type": "code",
      "metadata": {
        "id": "sbg91GKJjXWy"
      },
      "source": [
        "Theeta = [Theeta0,Theeta1,Theeta2,Theeta3,Theeta4,Theeta5,Theeta6,Theeta7,Theeta8,Theeta9]"
      ],
      "execution_count": 361,
      "outputs": []
    },
    {
      "cell_type": "code",
      "metadata": {
        "colab": {
          "base_uri": "https://localhost:8080/"
        },
        "id": "VSSQPq95cv45",
        "outputId": "79a1bfce-52e5-4159-e2e3-668c7ac81dd8"
      },
      "source": [
        "for n in range(10):\n",
        "  correct_predictions = 0 \n",
        "  for i in range(19999):\n",
        "    if y_train[i]==n:\n",
        "      y_train[i]=1\n",
        "    else:\n",
        "      y_train[i]=0\n",
        "    temp = Theeta[n]\n",
        "    g_temp = np.dot(temp,x_n_train[i])\n",
        "    hypothesis = 1/(1+np.exp(-g_temp))\n",
        "    \n",
        "    if hypothesis >= 0.5:\n",
        "      hypothesis = 1\n",
        "    else:\n",
        "      hypothesis = 0\n",
        "    \n",
        "    if hypothesis == y_train[i]:\n",
        "      correct_predictions+=1\n",
        "    \n",
        "  print(correct_predictions,'for Digit',n)"
      ],
      "execution_count": 362,
      "outputs": [
        {
          "output_type": "stream",
          "text": [
            "1984 for Digit 0\n",
            "1981 for Digit 1\n",
            "18013 for Digit 2\n",
            "17982 for Digit 3\n",
            "18010 for Digit 4\n",
            "18008 for Digit 5\n",
            "18004 for Digit 6\n",
            "17996 for Digit 7\n",
            "18010 for Digit 8\n",
            "17998 for Digit 9\n"
          ],
          "name": "stdout"
        }
      ]
    }
  ]
}