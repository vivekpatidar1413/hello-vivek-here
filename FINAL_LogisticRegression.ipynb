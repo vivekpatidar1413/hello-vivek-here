{
  "nbformat": 4,
  "nbformat_minor": 0,
  "metadata": {
    "colab": {
      "name": "FINAL_LogisticRegression.ipynb",
      "provenance": [],
      "collapsed_sections": [],
      "toc_visible": true,
      "authorship_tag": "ABX9TyOG1GceGFPB5mKml3kGBWud",
      "include_colab_link": true
    },
    "kernelspec": {
      "display_name": "Python 3",
      "name": "python3"
    },
    "language_info": {
      "name": "python"
    }
  },
  "cells": [
    {
      "cell_type": "markdown",
      "metadata": {
        "id": "view-in-github",
        "colab_type": "text"
      },
      "source": [
        "<a href=\"https://colab.research.google.com/github/vivekpatidar1413/ML_bootcamp_vivek/blob/logistic-regression/FINAL_LogisticRegression.ipynb\" target=\"_parent\"><img src=\"https://colab.research.google.com/assets/colab-badge.svg\" alt=\"Open In Colab\"/></a>"
      ]
    },
    {
      "cell_type": "markdown",
      "metadata": {
        "id": "osM8JPRAlth8"
      },
      "source": [
        "# Importing The MNIST dataset\n"
      ]
    },
    {
      "cell_type": "code",
      "metadata": {
        "id": "qaP_jRa_lFb6"
      },
      "source": [
        "import numpy as np\n",
        "import pandas as pd\n",
        "from matplotlib import pyplot as plt"
      ],
      "execution_count": null,
      "outputs": []
    },
    {
      "cell_type": "code",
      "metadata": {
        "id": "RTvWtumslXXF"
      },
      "source": [
        "train_df = pd.read_csv(\"/content/sample_data/mnist_train_small.csv\")\n",
        "test_df  = pd.read_csv(\"/content/sample_data/mnist_test.csv\")"
      ],
      "execution_count": null,
      "outputs": []
    },
    {
      "cell_type": "markdown",
      "metadata": {
        "id": "GX-d4zh3JFJL"
      },
      "source": [
        "converting the data frame into numpy array"
      ]
    },
    {
      "cell_type": "code",
      "metadata": {
        "id": "leL1lkgrlbMg"
      },
      "source": [
        "train = train_df.to_numpy()\n",
        "test  = test_df.to_numpy()"
      ],
      "execution_count": null,
      "outputs": []
    },
    {
      "cell_type": "code",
      "metadata": {
        "colab": {
          "base_uri": "https://localhost:8080/"
        },
        "id": "ZVCA5mGRlfxH",
        "outputId": "68371598-2e59-4a49-d3d8-1df17048d542"
      },
      "source": [
        "print(train.shape)\n",
        "print(train)"
      ],
      "execution_count": null,
      "outputs": [
        {
          "output_type": "stream",
          "text": [
            "(19999, 785)\n",
            "[[5 0 0 ... 0 0 0]\n",
            " [7 0 0 ... 0 0 0]\n",
            " [9 0 0 ... 0 0 0]\n",
            " ...\n",
            " [2 0 0 ... 0 0 0]\n",
            " [9 0 0 ... 0 0 0]\n",
            " [5 0 0 ... 0 0 0]]\n"
          ],
          "name": "stdout"
        }
      ]
    },
    {
      "cell_type": "markdown",
      "metadata": {
        "id": "zH4eRqDhrg_7"
      },
      "source": [
        "# Reshaping the dataset into desired shape and Size"
      ]
    },
    {
      "cell_type": "code",
      "metadata": {
        "id": "VYypfC6jmPjU"
      },
      "source": [
        "x_train = train[:,1:]\n",
        "y_train = train[:,:1]"
      ],
      "execution_count": null,
      "outputs": []
    },
    {
      "cell_type": "code",
      "metadata": {
        "id": "m3R9C7NzKQrN"
      },
      "source": [
        "# Adding one more coloumn to x_train so we can take dot product of it with THEETA\n",
        "\n",
        "x_n_train = np.arange(19999*785)\n",
        "x_n_train = np.reshape(x_n_train,(19999,785))\n",
        "\n",
        "for i in range(19999):\n",
        "  x_n_train[i] = np.insert(x_train[i],0,1)\n",
        "x_n_train = x_n_train/255"
      ],
      "execution_count": null,
      "outputs": []
    },
    {
      "cell_type": "code",
      "metadata": {
        "colab": {
          "base_uri": "https://localhost:8080/"
        },
        "id": "rGjSX1j6mYxK",
        "outputId": "c343b6bf-fa03-4a5d-c037-fa16136ba5a7"
      },
      "source": [
        "print(y_train.shape)\n",
        "print(x_n_train.shape)"
      ],
      "execution_count": null,
      "outputs": [
        {
          "output_type": "stream",
          "text": [
            "(19999, 1)\n",
            "(19999, 785)\n"
          ],
          "name": "stdout"
        }
      ]
    },
    {
      "cell_type": "markdown",
      "metadata": {
        "id": "QO2-tBp5KaP_"
      },
      "source": [
        "# THE MAIN FUNCTION"
      ]
    },
    {
      "cell_type": "code",
      "metadata": {
        "colab": {
          "base_uri": "https://localhost:8080/",
          "height": 35
        },
        "id": "V0odI5uq0TMk",
        "outputId": "214f995d-4d5e-441e-ee1d-c57ea6b3998e"
      },
      "source": [
        "''' ONE VS ALL'''\n",
        "# classifier"
      ],
      "execution_count": null,
      "outputs": [
        {
          "output_type": "execute_result",
          "data": {
            "application/vnd.google.colaboratory.intrinsic+json": {
              "type": "string"
            },
            "text/plain": [
              "' ONE VS ALL'"
            ]
          },
          "metadata": {
            "tags": []
          },
          "execution_count": 117
        }
      ]
    },
    {
      "cell_type": "markdown",
      "metadata": {
        "id": "F5FudWz46l-Q"
      },
      "source": [
        "Defining a function which we call for diffrent digit classification\n",
        "\n",
        "*   input = taking the digit for which the classification is to be performed\n",
        "*   output = the values of theeta and cost function after every iteration\n",
        "\n"
      ]
    },
    {
      "cell_type": "code",
      "metadata": {
        "id": "yCcBbllQm1Zb"
      },
      "source": [
        "def THE_MAIN_FUNCTION(n,x_,y_):\n",
        "  Y = y_\n",
        "  X  = x_\n",
        "  # Let the iterations be 50000\n",
        "  itrations = 50000\n",
        "  # let the learning rate be 0.16\n",
        "  alpha = 0.16\n",
        "  # the number of training set be m which is 19999 here\n",
        "  m = 19999\n",
        "\n",
        "  '''Converting the Y_TRAIN in BINARY FORM'''\n",
        "  '''Y be 1 if the number is same as the digit to be trained(n)'''\n",
        "  '''Y be 0 if the number is not equal as the digit to be trained(n)'''\n",
        "\n",
        "  for i in range(19999):\n",
        "    if Y[i]==n:\n",
        "      Y[i]=1\n",
        "    else:\n",
        "      Y[i]=0\n",
        "\n",
        "  y = Y.T\n",
        "  X = X.T\n",
        "  \n",
        "  # Intialising the array of theeta to be any random value \n",
        "  Theeta = np.random.randn(1,785)\n",
        "\n",
        "  Cost_Function = []\n",
        "  k = 0\n",
        "\n",
        "  print('TRAINING THE MODEL FOR DIGIT',n)\n",
        "\n",
        "\n",
        "  # The main itration loops bigins from here\n",
        "\n",
        "  for i in range(1,itrations+1):\n",
        "    \n",
        "    g = np.dot(Theeta,X)\n",
        "    hypothesis = 1/(1 + np.exp(-g))\n",
        "\n",
        "    # COST FUNCTION\n",
        "    j = 1/m*(-1*(np.sum(y*np.log(hypothesis) + (1-y)*np.log(1-hypothesis))))\n",
        "    Cost_Function.append(j)\n",
        "    \n",
        "    # GRADIENT DESCENT\n",
        "    dw =  1/m * np.dot(hypothesis-y,X.T)\n",
        "    Theeta = Theeta - alpha*dw\n",
        "    \n",
        "    k+=1\n",
        "\n",
        "    if i%2500 == 0:\n",
        "      print(i,'th Iteration , Cost Function =',j)\n",
        "\n",
        "\n",
        "    # BREAKING THE LOOP\n",
        "    '''stoping the loop if the change in value of cost function is too low'''\n",
        "    if i%2 == 0:\n",
        "      if abs(j-Cost_Function[-2])<0.000001:\n",
        "        if abs(j-Cost_Function[-3])<0.000001:\n",
        "          break \n",
        "\n",
        "      \n",
        "  print('Last itteration number:',k)\n",
        "\n",
        "  return Theeta,Cost_Function"
      ],
      "execution_count": null,
      "outputs": []
    },
    {
      "cell_type": "code",
      "metadata": {
        "colab": {
          "base_uri": "https://localhost:8080/"
        },
        "id": "JeuONSUW9bs5",
        "outputId": "9c99793e-bd50-4327-8bc3-756d6647999e"
      },
      "source": [
        "y_train"
      ],
      "execution_count": null,
      "outputs": [
        {
          "output_type": "execute_result",
          "data": {
            "text/plain": [
              "array([[5],\n",
              "       [7],\n",
              "       [9],\n",
              "       ...,\n",
              "       [2],\n",
              "       [9],\n",
              "       [5]])"
            ]
          },
          "metadata": {
            "tags": []
          },
          "execution_count": 27
        }
      ]
    },
    {
      "cell_type": "code",
      "metadata": {
        "colab": {
          "base_uri": "https://localhost:8080/"
        },
        "id": "D4aRqZiv7XdB",
        "outputId": "198f4068-cce9-4a9e-f993-808d28b5cec5"
      },
      "source": [
        "Theeta0 , Cost_Function0 = THE_MAIN_FUNCTION (0,x_n_train,y_train)\n",
        "Theeta1 , Cost_Function1 = THE_MAIN_FUNCTION (1,x_n_train,y_train)"
      ],
      "execution_count": null,
      "outputs": [
        {
          "output_type": "stream",
          "text": [
            "TRAINING THE MODEL FOR DIGIT 0\n",
            "2500 th Iteration , Cost Function = 0.06041040573278516\n",
            "5000 th Iteration , Cost Function = 0.04906703014962782\n",
            "7500 th Iteration , Cost Function = 0.04334372045004448\n",
            "10000 th Iteration , Cost Function = 0.03961669775569828\n",
            "12500 th Iteration , Cost Function = 0.03692579793340377\n",
            "15000 th Iteration , Cost Function = 0.03486363878296964\n",
            "17500 th Iteration , Cost Function = 0.033216712547757654\n",
            "Last itteration number: 19868\n",
            "TRAINING THE MODEL FOR DIGIT 1\n",
            "2500 th Iteration , Cost Function = 0.057798215191868806\n",
            "5000 th Iteration , Cost Function = 0.04604344257275115\n",
            "7500 th Iteration , Cost Function = 0.040567038639967384\n",
            "10000 th Iteration , Cost Function = 0.03704956712927097\n",
            "12500 th Iteration , Cost Function = 0.034518325236555285\n",
            "15000 th Iteration , Cost Function = 0.03259073449346777\n",
            "17500 th Iteration , Cost Function = 0.03106556631225347\n",
            "Last itteration number: 18644\n"
          ],
          "name": "stdout"
        }
      ]
    },
    {
      "cell_type": "code",
      "metadata": {
        "colab": {
          "base_uri": "https://localhost:8080/"
        },
        "id": "PCFnxnxk7XLX",
        "outputId": "1578fdd5-c93d-4769-a00c-eaa819f96547"
      },
      "source": [
        "Theeta2 , Cost_Function2 = THE_MAIN_FUNCTION (2,x_n_train,y_train)"
      ],
      "execution_count": null,
      "outputs": [
        {
          "output_type": "stream",
          "text": [
            "TRAINING THE MODEL FOR DIGIT 2\n",
            "2500 th Iteration , Cost Function = 0.11931921583769352\n",
            "5000 th Iteration , Cost Function = 0.0992087175142309\n",
            "7500 th Iteration , Cost Function = 0.0896869124863076\n",
            "10000 th Iteration , Cost Function = 0.08381462155248537\n",
            "12500 th Iteration , Cost Function = 0.07981203397749509\n",
            "15000 th Iteration , Cost Function = 0.07689319034301668\n",
            "17500 th Iteration , Cost Function = 0.07465387600664779\n",
            "20000 th Iteration , Cost Function = 0.07286869792335404\n",
            "22500 th Iteration , Cost Function = 0.07140309191857962\n",
            "Last itteration number: 23494\n"
          ],
          "name": "stdout"
        }
      ]
    },
    {
      "cell_type": "code",
      "metadata": {
        "colab": {
          "base_uri": "https://localhost:8080/"
        },
        "id": "CFF8nJEU7vDh",
        "outputId": "f1edeb5a-e292-43dc-b68a-fae47c0f9ff3"
      },
      "source": [
        "Theeta3 , Cost_Function3 = THE_MAIN_FUNCTION (3,x_n_train,y_train)"
      ],
      "execution_count": null,
      "outputs": [
        {
          "output_type": "stream",
          "text": [
            "TRAINING THE MODEL FOR DIGIT 3\n",
            "2500 th Iteration , Cost Function = 0.13563987952445228\n",
            "5000 th Iteration , Cost Function = 0.11326294321733435\n",
            "7500 th Iteration , Cost Function = 0.10369498460352018\n",
            "10000 th Iteration , Cost Function = 0.0982525261152735\n",
            "12500 th Iteration , Cost Function = 0.0946418881512357\n",
            "15000 th Iteration , Cost Function = 0.09202214704496718\n",
            "17500 th Iteration , Cost Function = 0.09001092973888837\n",
            "20000 th Iteration , Cost Function = 0.08840623843657527\n",
            "Last itteration number: 21932\n"
          ],
          "name": "stdout"
        }
      ]
    },
    {
      "cell_type": "code",
      "metadata": {
        "id": "_XLJ8odN7XC3",
        "colab": {
          "base_uri": "https://localhost:8080/"
        },
        "outputId": "98eac3e0-c86c-4ad6-d980-9cfb367250ca"
      },
      "source": [
        "Theeta4 , Cost_Function4 = THE_MAIN_FUNCTION (4,x_n_train,y_train)"
      ],
      "execution_count": null,
      "outputs": [
        {
          "output_type": "stream",
          "text": [
            "TRAINING THE MODEL FOR DIGIT 4\n",
            "2500 th Iteration , Cost Function = 0.09369559173311176\n",
            "5000 th Iteration , Cost Function = 0.07839983681276079\n",
            "7500 th Iteration , Cost Function = 0.07069005748541593\n",
            "10000 th Iteration , Cost Function = 0.06579064446646775\n",
            "12500 th Iteration , Cost Function = 0.06235889497377829\n",
            "15000 th Iteration , Cost Function = 0.05979265899653366\n",
            "17500 th Iteration , Cost Function = 0.05777933742662985\n",
            "20000 th Iteration , Cost Function = 0.0561437349616969\n",
            "22500 th Iteration , Cost Function = 0.054780942004905187\n",
            "Last itteration number: 22514\n"
          ],
          "name": "stdout"
        }
      ]
    },
    {
      "cell_type": "code",
      "metadata": {
        "colab": {
          "base_uri": "https://localhost:8080/"
        },
        "id": "igbj9cia97Z9",
        "outputId": "abdb7d0d-bf59-4fbc-9622-dedf0cd0cf5b"
      },
      "source": [
        "Theeta5 , Cost_Function5 = THE_MAIN_FUNCTION (5,x_n_train,y_train)"
      ],
      "execution_count": null,
      "outputs": [
        {
          "output_type": "stream",
          "text": [
            "TRAINING THE MODEL FOR DIGIT 5\n",
            "2500 th Iteration , Cost Function = 0.14014545445448723\n",
            "5000 th Iteration , Cost Function = 0.11585745188799228\n",
            "7500 th Iteration , Cost Function = 0.10446644668829982\n",
            "10000 th Iteration , Cost Function = 0.09774459603162665\n",
            "12500 th Iteration , Cost Function = 0.09325878474237423\n",
            "15000 th Iteration , Cost Function = 0.09001798386785721\n",
            "17500 th Iteration , Cost Function = 0.08754393890989463\n",
            "20000 th Iteration , Cost Function = 0.08557763313809627\n",
            "22500 th Iteration , Cost Function = 0.08396687161114089\n",
            "Last itteration number: 24918\n"
          ],
          "name": "stdout"
        }
      ]
    },
    {
      "cell_type": "code",
      "metadata": {
        "id": "UthB_T3L7W8o",
        "colab": {
          "base_uri": "https://localhost:8080/"
        },
        "outputId": "c43e3388-5ac8-451a-a911-b4c66f12e6d3"
      },
      "source": [
        "Theeta6 , Cost_Function6 = THE_MAIN_FUNCTION (6,x_n_train,y_train)"
      ],
      "execution_count": null,
      "outputs": [
        {
          "output_type": "stream",
          "text": [
            "TRAINING THE MODEL FOR DIGIT 6\n",
            "2500 th Iteration , Cost Function = 0.0741880252988771\n",
            "5000 th Iteration , Cost Function = 0.0631830742142477\n",
            "7500 th Iteration , Cost Function = 0.05721118582331882\n",
            "10000 th Iteration , Cost Function = 0.05314238468015187\n",
            "12500 th Iteration , Cost Function = 0.05013624184749069\n",
            "15000 th Iteration , Cost Function = 0.047809392369757585\n",
            "17500 th Iteration , Cost Function = 0.04595018886892197\n",
            "20000 th Iteration , Cost Function = 0.044428419573251735\n",
            "Last itteration number: 21456\n"
          ],
          "name": "stdout"
        }
      ]
    },
    {
      "cell_type": "code",
      "metadata": {
        "colab": {
          "base_uri": "https://localhost:8080/"
        },
        "id": "QZky9LvXFuhv",
        "outputId": "98cf4b1e-3da2-4fc7-c39e-023c5743b68f"
      },
      "source": [
        "Theeta7 , Cost_Function7 = THE_MAIN_FUNCTION (7,x_n_train,y_train)"
      ],
      "execution_count": null,
      "outputs": [
        {
          "output_type": "stream",
          "text": [
            "TRAINING THE MODEL FOR DIGIT 7\n",
            "2500 th Iteration , Cost Function = 0.07930303222290891\n",
            "5000 th Iteration , Cost Function = 0.06641028884497935\n",
            "7500 th Iteration , Cost Function = 0.06064199643542249\n",
            "10000 th Iteration , Cost Function = 0.05705538981758584\n",
            "12500 th Iteration , Cost Function = 0.05453111427980209\n",
            "15000 th Iteration , Cost Function = 0.0526372608708086\n",
            "17500 th Iteration , Cost Function = 0.05115362212772595\n",
            "Last itteration number: 18228\n"
          ],
          "name": "stdout"
        }
      ]
    },
    {
      "cell_type": "code",
      "metadata": {
        "id": "KCb4VacsOM6R",
        "colab": {
          "base_uri": "https://localhost:8080/"
        },
        "outputId": "89aae907-185b-4a87-81f0-92950966361f"
      },
      "source": [
        "Theeta8 , Cost_Function8 = THE_MAIN_FUNCTION (8,x_n_train,y_train)"
      ],
      "execution_count": null,
      "outputs": [
        {
          "output_type": "stream",
          "text": [
            "TRAINING THE MODEL FOR DIGIT 8\n",
            "2500 th Iteration , Cost Function = 0.2036883546879894\n",
            "5000 th Iteration , Cost Function = 0.17645506540909262\n",
            "7500 th Iteration , Cost Function = 0.16506922369701954\n",
            "10000 th Iteration , Cost Function = 0.15848603286749735\n",
            "12500 th Iteration , Cost Function = 0.15421689969572153\n",
            "15000 th Iteration , Cost Function = 0.15125635470607918\n",
            "17500 th Iteration , Cost Function = 0.14909672983687638\n",
            "20000 th Iteration , Cost Function = 0.14745489878577617\n",
            "Last itteration number: 21584\n"
          ],
          "name": "stdout"
        }
      ]
    },
    {
      "cell_type": "code",
      "metadata": {
        "colab": {
          "base_uri": "https://localhost:8080/"
        },
        "id": "K-N4m-Y8KWY4",
        "outputId": "0cf5cd8b-af01-4726-cfe5-db91431b0f5f"
      },
      "source": [
        "Theeta9 , Cost_Function9 = THE_MAIN_FUNCTION (9,x_n_train,y_train)"
      ],
      "execution_count": null,
      "outputs": [
        {
          "output_type": "stream",
          "text": [
            "TRAINING THE MODEL FOR DIGIT 9\n",
            "2500 th Iteration , Cost Function = 0.16500943623869507\n",
            "5000 th Iteration , Cost Function = 0.14141752756850529\n",
            "7500 th Iteration , Cost Function = 0.13058051904279028\n",
            "10000 th Iteration , Cost Function = 0.12409200352512417\n",
            "12500 th Iteration , Cost Function = 0.11969857147976186\n",
            "15000 th Iteration , Cost Function = 0.11652089048077316\n",
            "17500 th Iteration , Cost Function = 0.11412162917690935\n",
            "20000 th Iteration , Cost Function = 0.11225052002200168\n",
            "22500 th Iteration , Cost Function = 0.1107527723782374\n",
            "Last itteration number: 23460\n"
          ],
          "name": "stdout"
        }
      ]
    },
    {
      "cell_type": "markdown",
      "metadata": {
        "id": "ZcTVHYnrHmyw"
      },
      "source": [
        "# Graph Ploting for Cost Function"
      ]
    },
    {
      "cell_type": "markdown",
      "metadata": {
        "id": "JbOYoSAtLLex"
      },
      "source": [
        "Graph Showing the decresing nature of cost function \n",
        "\n",
        "*   number of iterations on x-axis\n",
        "*   cost function value on y-axis\n",
        "\n",
        "\n",
        "\n"
      ]
    },
    {
      "cell_type": "code",
      "metadata": {
        "id": "Edo3gOe8ERVs",
        "colab": {
          "base_uri": "https://localhost:8080/",
          "height": 1000
        },
        "outputId": "a88ff1bf-f45f-4b97-dacb-1a872d73caf3"
      },
      "source": [
        "plt.plot(Cost_Function0)\n",
        "plt.title(\"0's dataset\")\n",
        "plt.show()\n",
        "plt.plot(Cost_Function1)\n",
        "plt.title(\"1's dataset\")\n",
        "plt.show()\n",
        "plt.plot(Cost_Function2)\n",
        "plt.title(\"2's dataset\")\n",
        "plt.show()\n",
        "plt.plot(Cost_Function3)\n",
        "plt.title(\"3's dataset\")\n",
        "plt.show()\n",
        "plt.plot(Cost_Function4)\n",
        "plt.title(\"4's dataset\")\n",
        "plt.show()\n",
        "plt.plot(Cost_Function5)\n",
        "plt.title(\"5's dataset\")\n",
        "plt.show()\n",
        "plt.plot(Cost_Function6)\n",
        "plt.title(\"6's dataset\")\n",
        "plt.show()\n",
        "plt.plot(Cost_Function7)\n",
        "plt.title(\"7's dataset\")\n",
        "plt.show()\n",
        "plt.plot(Cost_Function8)\n",
        "plt.title(\"8's dataset\")\n",
        "plt.show()\n",
        "plt.plot(Cost_Function9)\n",
        "plt.title(\"9's dataset\")\n",
        "plt.show()"
      ],
      "execution_count": null,
      "outputs": [
        {
          "output_type": "display_data",
          "data": {
            "image/png": "[encoded data removed]",
            "text/plain": [
              "<Figure size 432x288 with 1 Axes>"
            ]
          },
          "metadata": {
            "tags": [],
            "needs_background": "light"
          }
        },
        {
          "output_type": "display_data",
          "data": {
            "image/png": "[encoded data removed]",
            "text/plain": [
              "<Figure size 432x288 with 1 Axes>"
            ]
          },
          "metadata": {
            "tags": [],
            "needs_background": "light"
          }
        },
        {
          "output_type": "display_data",
          "data": {
            "image/png": "[encoded data removed]",
            "text/plain": [
              "<Figure size 432x288 with 1 Axes>"
            ]
          },
          "metadata": {
            "tags": [],
            "needs_background": "light"
          }
        },
        {
          "output_type": "display_data",
          "data": {
            "image/png": "[encoded data removed]",
            "text/plain": [
              "<Figure size 432x288 with 1 Axes>"
            ]
          },
          "metadata": {
            "tags": [],
            "needs_background": "light"
          }
        },
        {
          "output_type": "display_data",
          "data": {
            "image/png": "[encoded data removed]",
            "text/plain": [
              "<Figure size 432x288 with 1 Axes>"
            ]
          },
          "metadata": {
            "tags": [],
            "needs_background": "light"
          }
        },
        {
          "output_type": "display_data",
          "data": {
            "image/png": "[encoded data removed]",
            "text/plain": [
              "<Figure size 432x288 with 1 Axes>"
            ]
          },
          "metadata": {
            "tags": [],
            "needs_background": "light"
          }
        },
        {
          "output_type": "display_data",
          "data": {
            "image/png": "[encoded data removed]",
            "text/plain": [
              "<Figure size 432x288 with 1 Axes>"
            ]
          },
          "metadata": {
            "tags": [],
            "needs_background": "light"
          }
        },
        {
          "output_type": "display_data",
          "data": {
            "image/png": "[encoded data removed]",
            "text/plain": [
              "<Figure size 432x288 with 1 Axes>"
            ]
          },
          "metadata": {
            "tags": [],
            "needs_background": "light"
          }
        },
        {
          "output_type": "display_data",
          "data": {
            "image/png": "[encoded data removed]",
            "text/plain": [
              "<Figure size 432x288 with 1 Axes>"
            ]
          },
          "metadata": {
            "tags": [],
            "needs_background": "light"
          }
        },
        {
          "output_type": "display_data",
          "data": {
            "image/png": "[encoded data removed]",
            "text/plain": [
              "<Figure size 432x288 with 1 Axes>"
            ]
          },
          "metadata": {
            "tags": [],
            "needs_background": "light"
          }
        }
      ]
    },
    {
      "cell_type": "markdown",
      "metadata": {
        "id": "zzgjNw0VHsxm"
      },
      "source": [
        "# Accuracy Finding"
      ]
    },
    {
      "cell_type": "markdown",
      "metadata": {
        "id": "ecNjPxdyHzeW"
      },
      "source": [
        "Running test in each row (each traing examples)\n"
      ]
    },
    {
      "cell_type": "code",
      "metadata": {
        "id": "sbg91GKJjXWy"
      },
      "source": [
        "Theeta = [Theeta0,Theeta1,Theeta2,Theeta3,Theeta4,Theeta5,Theeta6,Theeta7,Theeta8,Theeta9]"
      ],
      "execution_count": null,
      "outputs": []
    },
    {
      "cell_type": "code",
      "metadata": {
        "id": "LkRU6-aoOlwG"
      },
      "source": [
        "x_test = test[:,1:]\n",
        "y_test = test[:,:1]"
      ],
      "execution_count": null,
      "outputs": []
    },
    {
      "cell_type": "code",
      "metadata": {
        "id": "tgsprbAWNlzH"
      },
      "source": [
        "# Adding one more coloumn to x_test so we can take dot product of it with THEETA\n",
        "\n",
        "x_n_test = np.arange(9999*785)\n",
        "x_n_test = np.reshape(x_n_test,(9999,785))\n",
        "\n",
        "for i in range(9999):\n",
        "  x_n_test[i] = np.insert(x_test[i],0,1)\n",
        "x_n_test = x_n_test/255"
      ],
      "execution_count": null,
      "outputs": []
    },
    {
      "cell_type": "code",
      "metadata": {
        "id": "mypRju42gTXf",
        "colab": {
          "base_uri": "https://localhost:8080/"
        },
        "outputId": "56173b8b-b93e-4cca-ad7a-83770af5aa4f"
      },
      "source": [
        "accurates =[]\n",
        "\n",
        "for i in range(10):\n",
        "  correct = 0\n",
        "  y = y_test\n",
        "  for j in range(9999):\n",
        "\n",
        "    if y_test[j]==i:\n",
        "      y[j]=1\n",
        "    else:\n",
        "      y[j]=0\n",
        "\n",
        "  # finding the hypothesis by taking the Theeta\n",
        "  # And cheacking that if the model can determine its correcct value or not\n",
        "  \n",
        "    g_temp = np.dot(Theeta[i],x_n_test[j])\n",
        "    hypothesis = 1/(1+np.exp(-g_temp))\n",
        "\n",
        "    if hypothesis>=0.5:\n",
        "      hypothesis = 1\n",
        "    else:\n",
        "      hypothesis = 0\n",
        "    \n",
        "    if hypothesis == y_test[j] :\n",
        "      correct+=1\n",
        "\n",
        "  accurates.append(correct)\n",
        "\n",
        "  print(correct/9999*100,' is accuracy for digit',i)"
      ],
      "execution_count": null,
      "outputs": [
        {
          "output_type": "stream",
          "text": [
            "10.071007100710071  is accuracy for digit 0\n",
            "10.05100510051005  is accuracy for digit 1\n",
            "90.67906790679068  is accuracy for digit 2\n",
            "90.3990399039904  is accuracy for digit 3\n",
            "90.46904690469046  is accuracy for digit 4\n",
            "92.04920492049204  is accuracy for digit 5\n",
            "90.2890289028903  is accuracy for digit 6\n",
            "89.97899789978999  is accuracy for digit 7\n",
            "91.06910691069106  is accuracy for digit 8\n",
            "90.22902290229023  is accuracy for digit 9\n"
          ],
          "name": "stdout"
        }
      ]
    },
    {
      "cell_type": "code",
      "metadata": {
        "id": "Ojo6UuaDls0h",
        "colab": {
          "base_uri": "https://localhost:8080/"
        },
        "outputId": "220e8d96-ef59-4f92-eebb-e49557532d19"
      },
      "source": [
        "# Just finding the percentage of accuracy of the model\n",
        "t = 0\n",
        "for i in range(2,10):\n",
        "  t+=accurates[i]\n",
        "\n",
        "\n",
        "print(\"\\n\\n\\n\\n\\n\\n\\n\\nTHE ACCURACY OF MY THIS LOGISTIC REGRESSION MODEL IS :\")\n",
        "print(t/9999*100/8)"
      ],
      "execution_count": null,
      "outputs": [
        {
          "output_type": "stream",
          "text": [
            "\n",
            "\n",
            "\n",
            "\n",
            "\n",
            "\n",
            "\n",
            "\n",
            "THE ACCURACY OF MY THIS LOGISTIC REGRESSION MODEL IS :\n",
            "90.64531453145315\n"
          ],
          "name": "stdout"
        }
      ]
    }
  ]
}